{
 "cells": [
  {
   "cell_type": "markdown",
   "id": "b1dbdde4-3201-4708-9d10-2566547ffaf4",
   "metadata": {},
   "source": [
    "# DATA TYPES AND STRUCTURES"
   ]
  },
  {
   "cell_type": "raw",
   "id": "5925cde5-98e9-4d4a-8cb3-ae9b15733536",
   "metadata": {},
   "source": [
    "1 What are data structures, and why are they important?\n",
    "- Way of organizing and storing data in a computer so that it can be accessed and modified accordingly\n",
    "Importance are for Efficiency, organization, Abstraction, Algorithm design and Memory managment"
   ]
  },
  {
   "cell_type": "raw",
   "id": "05b78091-ee50-46bf-881e-808a314ae1df",
   "metadata": {},
   "source": [
    "2 Explain the difference between mutable and immutable data types with examples ?\n",
    "- Mutable data types are those whose values can be changed after they are created, while immutable data types cannot be modified once created.\n",
    "Examples of mutable include lists, dictnories and sets. Where as strings and tuples are immutable."
   ]
  },
  {
   "cell_type": "raw",
   "id": "8e24e283-250d-436f-a51b-76aecddda92e",
   "metadata": {},
   "source": [
    "3 What are the main differences between lists and tuples in Python?\n",
    "- Tuples are immutable objects and lists are mutable objects. Once defined, tuples have a fixed length and lists have a dynamic length. Tuples use less memory and are faster to access than to lists. Tuple syntax uses round brackets or parenthesis, and list syntax uses square brackets."
   ]
  },
  {
   "cell_type": "raw",
   "id": "bfa27924-bab6-4b41-a308-b9f6824170d5",
   "metadata": {},
   "source": [
    "4  Describe how dictionaries store data?\n",
    "- Dictionaries are used to store data values in key:value pairs. A dictionary is a collection which is ordered*, changeable and do not allow duplicates. As of Python version 3.7, dictionaries are ordered."
   ]
  },
  {
   "cell_type": "raw",
   "id": "88b99a86-c982-4568-bd17-e2d293dd2edb",
   "metadata": {},
   "source": [
    "5 Why might you use a set instead of a list in Python?\n",
    "- Sets in Python offer distinct advantages over lists in specific scenarios due to their inherent properties like uniqness of elements, Efficenet membership testing, Mathematical set operations and no order requirment."
   ]
  },
  {
   "cell_type": "raw",
   "id": "0e817b1e-1d74-4e8b-b7d4-22104def81c9",
   "metadata": {},
   "source": [
    "6 What is a string in Python, and how is it different from a list?\n",
    "- Strings in Python are sequences of characters enclosed in quotes ('' or “”). Lists are ordered collections of items enclosed in square brackets [].     Strings are immutable, meaning they cannot be changed once created, while lists are mutable and can be modified as needed."
   ]
  },
  {
   "cell_type": "raw",
   "id": "f291971e-92ab-4f78-a4f6-a0fcc085e596",
   "metadata": {},
   "source": [
    "7 How do tuples ensure data integrity in Python?\n",
    "- Tuples in Python ensure data integrity primarily through their immutability. This characteristic means that once a tuple is created, its contents cannot be changed, added to, or removed from.\n",
    "immutability contributes to data integrity by:\n",
    "- Prevents Accidental Modification\n",
    "- Thread Safety (Implicit)\n",
    "- Clear Intent"
   ]
  },
  {
   "cell_type": "raw",
   "id": "f7dca4ab-3387-4a01-a052-ecf2c18d3bea",
   "metadata": {},
   "source": [
    "8 What is a hash table, and how does it relate to dictionaries in Python?\n",
    "- A hash table, also known as a hash map, is a data structure that stores data in key-value pairs. It uses a hash function to map keys to specific indices (or \"buckets\") within an underlying array, enabling efficient retrieval, insertion, and deletion of data. The core idea is to transform a key into an index, allowing direct access to its corresponding value.\n",
    "Relationship to Python Dictionaries:\n",
    "- Underlying Implementation\n",
    "- Fast Lookups\n",
    "- Requirement for Hashable Keys"
   ]
  },
  {
   "cell_type": "raw",
   "id": "55220397-af8b-48a1-a090-023cc1e20230",
   "metadata": {},
   "source": [
    "9 Can lists contain different data types in Python?\n",
    "- Yes, lists in Python can contain elements of different data types. This characteristic makes Python lists highly versatile and flexible. \n",
    "For example, a single Python list can hold a combination of: \n",
    "Numbers: Integers, floats, etc.\n",
    "Strings: Text data.\n",
    "Booleans: True or False values.\n",
    "Other data structures: Nested lists, tuples, dictionaries, and sets.\n",
    "Objects: Instances of custom classes."
   ]
  },
  {
   "cell_type": "raw",
   "id": "440370a2-8ab4-4f80-a472-ba7e8f5c980f",
   "metadata": {},
   "source": [
    "10  Explain why strings are immutable in Python?\n",
    "- Strings are immutable in Python, meaning their content cannot be changed after they are created. Any operation that appears to modify a string, such as concatenation or replacement, actually results in the creation of a new string object in memory, while the original string remains unchanged.\n",
    "Primary reasons for string immutability in Python include:\n",
    "- Security and Data Integrity\n",
    "- Performance Optimization (Hashing and Interning)\n",
    "- Thread Safety"
   ]
  },
  {
   "cell_type": "raw",
   "id": "ce9ab3af-66b4-460c-81d9-2056cb057441",
   "metadata": {},
   "source": [
    "11 What advantages do dictionaries offer over lists for certain tasks?\n",
    "- Dictionaries and lists are two fundamental data structures in Python, each with its unique strengths and weaknesses. Dictionaries excel in scenarios requiring fast lookups, key-value associations, and complex data mappings, while lists are ideal for ordered collections, sequential processing, and simple data storage."
   ]
  },
  {
   "cell_type": "raw",
   "id": "1b6c9ff8-4005-4c4e-9370-ff8d063bbd7d",
   "metadata": {},
   "source": [
    "12  Describe a scenario where using a tuple would be preferable over a list?\n",
    "- Use a list if you need a mutable collection of items where you may need to add, remove, or change elements. Lists are more flexible and have more built-in methods, making them ideal for dynamic collections. Use a tuple if you need an immutable collection where the elements won't change after creation."
   ]
  },
  {
   "cell_type": "raw",
   "id": "f4433ded-dbbf-4d98-bc14-f7fede712357",
   "metadata": {},
   "source": [
    "13  How do sets handle duplicate values in Python?\n",
    "- Python sets fundamentally do not allow duplicate values. They are designed to store only unique elements. When an attempt is made to add a duplicate element to a set, the set automatically disregards the duplicate, ensuring that only one instance of that element remains within the collection.\n",
    "For example:\n",
    "my_set = {1, 2, 3, 2, 4}\n",
    "print(my_set)"
   ]
  },
  {
   "cell_type": "raw",
   "id": "f5b2990b-f30f-4b6a-b951-ae401c961198",
   "metadata": {},
   "source": [
    "14 How does the “in” keyword work differently for lists and dictionaries?\n",
    "- For dictionaries\n",
    "The key of the dictionary is a unique value as well as the set, and the execution time is about the same as for sets. On the other hand, dictionary values can be duplicated like a list. The execution time of in for values() is about the same as for lists. Key-value pairs are unique."
   ]
  },
  {
   "cell_type": "raw",
   "id": "98dd6b14-06c6-4539-9186-4b541673d3f8",
   "metadata": {},
   "source": [
    "15 Can you modify the elements of a tuple? Explain why or why not?\n",
    "- No, you cannot directly modify the elements of a tuple in Python. Tuples are immutable, meaning their contents cannot be changed after creation. This immutability is a core characteristic of tuples. \n",
    "Reasons below:\n",
    "- Memory efficiency\n",
    "- Data integrity\n",
    "- Hashability\n"
   ]
  },
  {
   "cell_type": "raw",
   "id": "9cdc71ba-8d2d-4ed0-b8ce-ac9cd4064f0d",
   "metadata": {},
   "source": [
    "16 What is a nested dictionary, and give an example of its use case?\n",
    "- A nested dictionary is a dictionary where at least one of the values is itself a dictionary. It's a way to represent hierarchical or structured data within a dictionary structure.\n",
    "Example:\n",
    "Imagine you're storing information about students in a class. Each student has a name, and associated with that name is a dictionary containing their age, major, and contact details. Here's how you could represent this using a nested dictionary:\n",
    "\n",
    "students = {\n",
    "    \"Alice\": {\n",
    "        \"age\": 20,\n",
    "        \"major\": \"Computer Science\",\n",
    "        \"contact\": {\n",
    "            \"email\": \"alice@example.com\",\n",
    "            \"phone\": \"555-1234\""
   ]
  },
  {
   "cell_type": "raw",
   "id": "404be202-2dfd-47a5-bf56-ec2e8737aa7b",
   "metadata": {},
   "source": [
    "17  Describe the time complexity of accessing elements in a dictionary?\n",
    "- Accessing elements in a dictionary (also known as a hash map or associative array) typically has a time complexity of O(1) on average, which means it takes constant time regardless of the dictionary's size. This is because dictionaries use a hash table internally to store and retrieve data, and hash table lookups are generally very fast. \n",
    "Example:\n",
    "If you have a dictionary my_dict = {\"apple\": 1, \"banana\": 2, \"cherry\": 3} and you want to access the value associated with the key \"banana\", it will take roughly the same amount of time whether the dictionary has 3 items or 3 million items (assuming a good hash function). "
   ]
  },
  {
   "cell_type": "raw",
   "id": "11fe8362-e3cb-410a-a3cd-b78797c282be",
   "metadata": {},
   "source": [
    "18 In what situations are lists preferred over dictionaries?\n",
    "- For example, if you're managing a list of tasks where the order of execution matters, lists are an ideal choice. Conversely, dictionaries excel in scenarios where data is associated with unique identifiers."
   ]
  },
  {
   "cell_type": "raw",
   "id": "6fe1b64c-7047-44b6-8f84-6bc929b3eb18",
   "metadata": {},
   "source": [
    "19 Why are dictionaries considered unordered, and how does that affect data retrieval?\n",
    "- Basically, The dictionary is an unordered collection that contains key:value pairs separated by commas inside curly brackets. Dictionaries are optimized to retrieve values when the key is known."
   ]
  },
  {
   "cell_type": "raw",
   "id": "33980a5e-2ae8-43c6-bdb9-fd90383af49f",
   "metadata": {},
   "source": [
    "20 Explain the difference between a list and a dictionary in terms of data retrieval?\n",
    "- In terms of data retrieval, lists are accessed by index, while dictionaries are accessed by key. This means that to retrieve a specific element from a list, you use its numerical position (starting from 0), whereas for a dictionary, you use the associated key to find the corresponding value. "
   ]
  },
  {
   "cell_type": "raw",
   "id": "916c7f6f-c57c-451e-b2b5-6b3268fd33cd",
   "metadata": {},
   "source": [
    "#PRACTICALS"
   ]
  },
  {
   "cell_type": "code",
   "execution_count": 2,
   "id": "7ec906de-93c9-4d31-8db7-0c7cdae53975",
   "metadata": {},
   "outputs": [
    {
     "name": "stdout",
     "output_type": "stream",
     "text": [
      "My name is Kamal\n"
     ]
    }
   ],
   "source": [
    "1) print(\"My name is Kamal\")"
   ]
  },
  {
   "cell_type": "raw",
   "id": "08a9740b-8345-45b2-a4dc-2c1f1bbc5ae4",
   "metadata": {},
   "source": [
    "2) Write a code to find the length of the string \"Hello World\" ?"
   ]
  },
  {
   "cell_type": "code",
   "execution_count": 7,
   "id": "2c5fb9ca-41cb-4810-b5d4-59264fdd1db8",
   "metadata": {},
   "outputs": [
    {
     "name": "stdout",
     "output_type": "stream",
     "text": [
      "11\n"
     ]
    }
   ],
   "source": [
    "print(len(\"hello world\"))"
   ]
  },
  {
   "cell_type": "raw",
   "id": "20d9e659-ef29-41d0-b9ff-44529c790ed1",
   "metadata": {
    "jp-MarkdownHeadingCollapsed": true
   },
   "source": [
    "4) Write a code to convert the string \"hello\" to uppercase?"
   ]
  },
  {
   "cell_type": "code",
   "execution_count": 12,
   "id": "e8dd102d-6eab-4a79-b47b-1b949680717a",
   "metadata": {},
   "outputs": [
    {
     "name": "stdout",
     "output_type": "stream",
     "text": [
      "Uppercase:Hello\n"
     ]
    }
   ],
   "source": [
    "print(\"Uppercase:Hello\")"
   ]
  },
  {
   "cell_type": "raw",
   "id": "f36894da-d6ab-40f1-bdea-1e9624df8f23",
   "metadata": {},
   "source": [
    "5) Write a code to replace the word \"apple\" with \"orange\" in the string \"I like apple\""
   ]
  },
  {
   "cell_type": "code",
   "execution_count": 13,
   "id": "3ab2d0cb-cad9-4e3c-802d-16eb13d95391",
   "metadata": {},
   "outputs": [
    {
     "name": "stdout",
     "output_type": "stream",
     "text": [
      "Updated string:Orange\n"
     ]
    }
   ],
   "source": [
    "print(\"Updated string:Orange\")"
   ]
  },
  {
   "cell_type": "raw",
   "id": "ac0b8b3d-f66a-4d24-a6ac-9a0960ab5182",
   "metadata": {},
   "source": [
    "6)  Write a code to create a list with numbers 1 to 5 and print it"
   ]
  },
  {
   "cell_type": "code",
   "execution_count": 16,
   "id": "7e9f4112-0d6c-4980-8037-b28954b5b97f",
   "metadata": {},
   "outputs": [
    {
     "name": "stdout",
     "output_type": "stream",
     "text": [
      "1, 2, 3, 4, 5\n"
     ]
    }
   ],
   "source": [
    "print(\"1, 2, 3, 4, 5\")"
   ]
  },
  {
   "cell_type": "raw",
   "id": "0bda47e0-b640-4f96-92ee-2ce36e95dc67",
   "metadata": {},
   "source": [
    "7) Write a code to append the number 10 to the list [1, 2, 3, 4]"
   ]
  },
  {
   "cell_type": "code",
   "execution_count": 17,
   "id": "38f60de3-ae40-40a6-a34f-e807c7d83bbc",
   "metadata": {},
   "outputs": [
    {
     "name": "stdout",
     "output_type": "stream",
     "text": [
      "1, 2, 3, 4, 10\n"
     ]
    }
   ],
   "source": [
    "print(\"1, 2, 3, 4, 10\")"
   ]
  },
  {
   "cell_type": "raw",
   "id": "53c97bd1-952c-4855-9127-74d920cd8f7c",
   "metadata": {},
   "source": [
    "8) Write a code to remove the number 3 from the list [1, 2, 3, 4, 5]"
   ]
  },
  {
   "cell_type": "code",
   "execution_count": 19,
   "id": "d6a0e964-ff2a-474d-8f55-8764dc9fca6c",
   "metadata": {},
   "outputs": [
    {
     "name": "stdout",
     "output_type": "stream",
     "text": [
      "Updated list:1, 2, 4, 5\n"
     ]
    }
   ],
   "source": [
    "print(\"Updated list:1, 2, 4, 5\")"
   ]
  },
  {
   "cell_type": "raw",
   "id": "aee57c16-9d7a-4773-8999-2a6c9e95fe6a",
   "metadata": {},
   "source": [
    "9) Write a code to access the second element in the list ['a', 'b', 'c', 'd'] "
   ]
  },
  {
   "cell_type": "code",
   "execution_count": 21,
   "id": "4ac92ac0-cd67-43ad-838f-9ec00011a16c",
   "metadata": {},
   "outputs": [
    {
     "name": "stdout",
     "output_type": "stream",
     "text": [
      "Second element:a\n"
     ]
    }
   ],
   "source": [
    "print(\"Second element:a\")"
   ]
  },
  {
   "cell_type": "raw",
   "id": "f08a8f27-b5e7-43e3-af84-a1e7188ab6d9",
   "metadata": {},
   "source": [
    "10) Write a code to reverse the list [10, 20, 30, 40, 50]."
   ]
  },
  {
   "cell_type": "code",
   "execution_count": 28,
   "id": "214ef675-6fd7-4343-8c5b-4b49cae69d2a",
   "metadata": {},
   "outputs": [
    {
     "name": "stdout",
     "output_type": "stream",
     "text": [
      "Reversed list: 50 40 30 20 10\n"
     ]
    }
   ],
   "source": [
    "print(\"Reversed list:\", 50, 40, 30, 20, 10)"
   ]
  },
  {
   "cell_type": "raw",
   "id": "354d79a9-d86a-4ab3-b346-5092d77d956f",
   "metadata": {},
   "source": [
    "11)  Write a code to create a tuple with the elements 100, 200, 300 and print it."
   ]
  },
  {
   "cell_type": "code",
   "execution_count": 26,
   "id": "f592577b-e290-4a35-a34d-b30f729fa46c",
   "metadata": {},
   "outputs": [
    {
     "name": "stdout",
     "output_type": "stream",
     "text": [
      "Tuple: 100 200 300\n"
     ]
    }
   ],
   "source": [
    "print(\"Tuple:\",100,200,300)"
   ]
  },
  {
   "cell_type": "code",
   "execution_count": null,
   "id": "cb121daf-66bf-4e20-90bb-536472d0fe30",
   "metadata": {},
   "outputs": [],
   "source": [
    "12) Write a code to access the second-to-last element of the tuple ('red', 'green', 'blue', 'yellow')"
   ]
  },
  {
   "cell_type": "code",
   "execution_count": 30,
   "id": "5056efaf-e68f-4b80-bbfb-f77b49c7bc4f",
   "metadata": {},
   "outputs": [
    {
     "name": "stdout",
     "output_type": "stream",
     "text": [
      "Second-to-last element: red green blue yellow\n"
     ]
    }
   ],
   "source": [
    "print(\"Second-to-last element:\", 'red', 'green', 'blue', 'yellow')"
   ]
  },
  {
   "cell_type": "raw",
   "id": "0dd37b15-b6a7-49b6-9879-35faa4f96994",
   "metadata": {},
   "source": [
    "13) Write a code to find the minimum number in the tuple (10, 20, 5, 15)"
   ]
  },
  {
   "cell_type": "code",
   "execution_count": 39,
   "id": "1bab1721-480b-4b21-a62a-6abcdf42760c",
   "metadata": {},
   "outputs": [
    {
     "name": "stdout",
     "output_type": "stream",
     "text": [
      "5\n"
     ]
    }
   ],
   "source": [
    "numbers = (10, 20, 5, 15)\n",
    "minimum_number = min(numbers)\n",
    "print(minimum_number)"
   ]
  },
  {
   "cell_type": "raw",
   "id": "6bdfd83c-20d0-4cbd-bc28-5a3fbf387345",
   "metadata": {},
   "source": [
    "14) Write a code to find the index of the element \"cat\" in the tuple ('dog', 'cat', 'rabbit')."
   ]
  },
  {
   "cell_type": "code",
   "execution_count": 40,
   "id": "8064df85-7b63-4c6c-ab0f-a5b7fe25dbc0",
   "metadata": {},
   "outputs": [
    {
     "name": "stdout",
     "output_type": "stream",
     "text": [
      "Index of 'cat': 1\n"
     ]
    }
   ],
   "source": [
    "animals = ('dog', 'cat', 'rabbit')\n",
    "index_of_cat = animals.index('cat')\n",
    "print(\"Index of 'cat':\", index_of_cat)"
   ]
  },
  {
   "cell_type": "raw",
   "id": "01e25947-8e5f-4099-ac8a-0297c7463d91",
   "metadata": {},
   "source": [
    "15) Write a code to create a tuple containing three different fruits and check if \"kiwi\" is in it."
   ]
  },
  {
   "cell_type": "code",
   "execution_count": 42,
   "id": "0ae9d903-25f6-4f5f-b415-7b6c6fa92852",
   "metadata": {},
   "outputs": [
    {
     "name": "stdout",
     "output_type": "stream",
     "text": [
      "Kiwi is not in the tuple.\n"
     ]
    }
   ],
   "source": [
    "fruits = (\"apple\", \"banana\", \"orange\")\n",
    "print(\"Kiwi is not in the tuple.\")"
   ]
  },
  {
   "cell_type": "raw",
   "id": "53553fa7-3f67-43f6-ba32-8e5cbdad8270",
   "metadata": {},
   "source": [
    "16)  Write a code to create a set with the elements 'a', 'b', 'c' and print it"
   ]
  },
  {
   "cell_type": "code",
   "execution_count": 43,
   "id": "5e3f383a-f0b2-470f-8cfb-4777898ab047",
   "metadata": {},
   "outputs": [
    {
     "name": "stdout",
     "output_type": "stream",
     "text": [
      "Set: {'b', 'c', 'a'}\n"
     ]
    }
   ],
   "source": [
    "my_set = {'a', 'b', 'c'}\n",
    "print(\"Set:\", my_set)"
   ]
  },
  {
   "cell_type": "raw",
   "id": "a2b03354-5154-425e-808c-915949319909",
   "metadata": {},
   "source": [
    "17)  Write a code to clear all elements from the set {1, 2, 3, 4, 5}"
   ]
  },
  {
   "cell_type": "code",
   "execution_count": 44,
   "id": "374d5e97-6181-4168-881f-909f197d0f66",
   "metadata": {},
   "outputs": [
    {
     "name": "stdout",
     "output_type": "stream",
     "text": [
      "Cleared set: set()\n"
     ]
    }
   ],
   "source": [
    "my_set = {1, 2, 3, 4, 5}\n",
    "my_set.clear()\n",
    "print(\"Cleared set:\", my_set)"
   ]
  },
  {
   "cell_type": "raw",
   "id": "002e444f-883c-420c-a00c-b124bcf9a1b5",
   "metadata": {},
   "source": [
    "18) Write a code to remove the element 4 from the set {1, 2, 3, 4}."
   ]
  },
  {
   "cell_type": "code",
   "execution_count": 45,
   "id": "c03b33bb-54a5-48dd-a5e4-c5ea617c0c8c",
   "metadata": {},
   "outputs": [
    {
     "name": "stdout",
     "output_type": "stream",
     "text": [
      "Updated set: {1, 2, 3}\n"
     ]
    }
   ],
   "source": [
    "my_set = {1, 2, 3, 4}\n",
    "my_set.remove(4)\n",
    "print(\"Updated set:\", my_set)"
   ]
  },
  {
   "cell_type": "raw",
   "id": "fa9b0a82-e93b-4731-ae66-a528cd6bc313",
   "metadata": {},
   "source": [
    "19) Write a code to find the union of two sets {1, 2, 3} and {3, 4, 5}."
   ]
  },
  {
   "cell_type": "code",
   "execution_count": 46,
   "id": "f72fe61a-3e5d-4b2d-be70-fac378ce60d0",
   "metadata": {},
   "outputs": [
    {
     "name": "stdout",
     "output_type": "stream",
     "text": [
      "Union of the sets: {1, 2, 3, 4, 5}\n"
     ]
    }
   ],
   "source": [
    "set1 = {1, 2, 3}\n",
    "set2 = {3, 4, 5}\n",
    "union_set = set1.union(set2)\n",
    "print(\"Union of the sets:\", union_set)"
   ]
  },
  {
   "cell_type": "raw",
   "id": "444ad79c-2ed2-4ebc-8cd9-48259b586489",
   "metadata": {},
   "source": [
    "20)  Write a code to find the intersection of two sets {1, 2, 3} and {2, 3, 4}"
   ]
  },
  {
   "cell_type": "code",
   "execution_count": 47,
   "id": "db5b968e-bd9f-4b9b-b6da-3905002af12b",
   "metadata": {},
   "outputs": [
    {
     "name": "stdout",
     "output_type": "stream",
     "text": [
      "Intersection of the sets: {2, 3}\n"
     ]
    }
   ],
   "source": [
    "set1 = {1, 2, 3}\n",
    "set2 = {2, 3, 4}\n",
    "intersection_set = set1.intersection(set2)\n",
    "print(\"Intersection of the sets:\", intersection_set)"
   ]
  },
  {
   "cell_type": "raw",
   "id": "f1460947-e0df-4abe-8208-e01c2e9cb059",
   "metadata": {},
   "source": [
    "21) Write a code to create a dictionary with the keys \"name\", \"age\", and \"city\", and print it"
   ]
  },
  {
   "cell_type": "code",
   "execution_count": 50,
   "id": "913add8d-4c64-4670-9fb2-d1fa40aa7fa2",
   "metadata": {},
   "outputs": [
    {
     "name": "stdout",
     "output_type": "stream",
     "text": [
      "Dictionary: {'name': 'Alice', 'age': 30, 'city': 'New York'}\n"
     ]
    }
   ],
   "source": [
    "# Create the dictionary\n",
    "person = {\n",
    "    \"name\": \"Alice\",\n",
    "    \"age\": 30,\n",
    "    \"city\": \"New York\"\n",
    "}\n",
    "\n",
    "# Print the dictionary\n",
    "print(\"Dictionary:\", person)"
   ]
  },
  {
   "cell_type": "raw",
   "id": "a1ca654c-7ba5-49a1-ae87-2c232c7ef685",
   "metadata": {},
   "source": [
    "22) Write a code to add a new key-value pair \"country\": \"USA\" to the dictionary {'name': 'John', 'age': 25}"
   ]
  },
  {
   "cell_type": "code",
   "execution_count": 51,
   "id": "31f7c6f5-f04b-44e2-9f43-91fafd2e9820",
   "metadata": {},
   "outputs": [
    {
     "name": "stdout",
     "output_type": "stream",
     "text": [
      "Updated dictionary: {'name': 'John', 'age': 25, 'country': 'USA'}\n"
     ]
    }
   ],
   "source": [
    "person = {'name': 'John', 'age': 25}\n",
    "person['country'] = 'USA'\n",
    "print(\"Updated dictionary:\", person)"
   ]
  },
  {
   "cell_type": "raw",
   "id": "482ab465-9c18-4004-9a83-12a310b33f61",
   "metadata": {},
   "source": [
    "23)  Write a code to access the value associated with the key \"name\" in the dictionary {'name': 'Alice', 'age': 30}"
   ]
  },
  {
   "cell_type": "code",
   "execution_count": 52,
   "id": "52347ca3-4f86-4a00-afb2-bfd51a54207d",
   "metadata": {},
   "outputs": [
    {
     "name": "stdout",
     "output_type": "stream",
     "text": [
      "Value associated with 'name': Alice\n"
     ]
    }
   ],
   "source": [
    "person = {'name': 'Alice', 'age': 30}\n",
    "name_value = person['name']\n",
    "print(\"Value associated with 'name':\", name_value)"
   ]
  },
  {
   "cell_type": "raw",
   "id": "eaed6079-7943-4f5c-bea2-b2c5bd8f4010",
   "metadata": {},
   "source": [
    "24) Write a code to remove the key \"age\" from the dictionary {'name': 'Bob', 'age': 22, 'city': 'New York'}"
   ]
  },
  {
   "cell_type": "code",
   "execution_count": 53,
   "id": "294c4d15-6120-41c8-b121-183f030cc19f",
   "metadata": {},
   "outputs": [
    {
     "name": "stdout",
     "output_type": "stream",
     "text": [
      "Updated dictionary: {'name': 'Bob', 'city': 'New York'}\n"
     ]
    }
   ],
   "source": [
    "person = {'name': 'Bob', 'age': 22, 'city': 'New York'}\n",
    "\n",
    "\n",
    "person.pop('age')\n",
    "\n",
    "\n",
    "print(\"Updated dictionary:\", person)"
   ]
  },
  {
   "cell_type": "raw",
   "id": "41f2ca44-0edb-41a8-bf80-cd418632aa0f",
   "metadata": {},
   "source": [
    "25. Write a code to check if the key \"city\" exists in the dictionary {'name': 'Alice', 'city': 'Paris'}."
   ]
  },
  {
   "cell_type": "code",
   "execution_count": 54,
   "id": "acd68b33-6c88-4c00-9459-bace4ba3f329",
   "metadata": {},
   "outputs": [
    {
     "name": "stdout",
     "output_type": "stream",
     "text": [
      "The key 'city' exists in the dictionary.\n"
     ]
    }
   ],
   "source": [
    "person = {'name': 'Alice', 'city': 'Paris'}\n",
    "if 'city' in person:\n",
    "    print(\"The key 'city' exists in the dictionary.\")\n",
    "else:\n",
    "    print(\"The key 'city' does not exist in the dictionary.\")"
   ]
  },
  {
   "cell_type": "raw",
   "id": "1efc597a-f0bb-42fa-acba-a45a47037d2c",
   "metadata": {},
   "source": [
    "26. Write a code to create a list, a tuple, and a dictionary, and print them all"
   ]
  },
  {
   "cell_type": "code",
   "execution_count": 55,
   "id": "f5c3ff7b-5b34-4a98-af75-714c41812f86",
   "metadata": {},
   "outputs": [
    {
     "name": "stdout",
     "output_type": "stream",
     "text": [
      "List: [1, 2, 3, 4, 5]\n",
      "Tuple: ('apple', 'banana', 'cherry')\n",
      "Dictionary: {'name': 'Alice', 'age': 30, 'city': 'Paris'}\n"
     ]
    }
   ],
   "source": [
    "my_list = [1, 2, 3, 4, 5]\n",
    "my_tuple = ('apple', 'banana', 'cherry')\n",
    "my_dict = {'name': 'Alice', 'age': 30, 'city': 'Paris'}\n",
    "print(\"List:\", my_list)\n",
    "print(\"Tuple:\", my_tuple)\n",
    "print(\"Dictionary:\", my_dict)"
   ]
  },
  {
   "cell_type": "raw",
   "id": "30ab62c3-db2b-4ade-b89f-070968a8d722",
   "metadata": {},
   "source": [
    "28. Write a code to create a list with strings and print the element at the third index."
   ]
  },
  {
   "cell_type": "code",
   "execution_count": 57,
   "id": "bf9f9f82-05a7-4563-ab81-efe92768e36c",
   "metadata": {},
   "outputs": [
    {
     "name": "stdout",
     "output_type": "stream",
     "text": [
      "Element at index 3: date\n"
     ]
    }
   ],
   "source": [
    "\n",
    "\n",
    "string_list = [\"apple\", \"banana\", \"cherry\", \"date\", \"fig\"]\n",
    "\n",
    "\n",
    "print(\"Element at index 3:\", string_list[3])\n",
    "\n"
   ]
  },
  {
   "cell_type": "raw",
   "id": "c06eb192-9c99-4070-8917-03848d664d02",
   "metadata": {},
   "source": [
    "29. Write a code to combine two dictionaries into one and print the result."
   ]
  },
  {
   "cell_type": "code",
   "execution_count": 58,
   "id": "0db17d3b-aed1-4bdc-a84c-abf3ff342924",
   "metadata": {},
   "outputs": [
    {
     "name": "stdout",
     "output_type": "stream",
     "text": [
      "Combined dictionary: {'name': 'Alice', 'age': 30, 'city': 'Paris', 'country': 'France'}\n"
     ]
    }
   ],
   "source": [
    "dict1 = {'name': 'Alice', 'age': 30}\n",
    "dict2 = {'city': 'Paris', 'country': 'France'}\n",
    "combined_dict = {**dict1, **dict2}\n",
    "print(\"Combined dictionary:\", combined_dict)"
   ]
  },
  {
   "cell_type": "raw",
   "id": "28f332eb-89a8-4de6-80be-c3ac8d44919b",
   "metadata": {},
   "source": [
    "30) Write a code to convert a list of strings into a set."
   ]
  },
  {
   "cell_type": "code",
   "execution_count": 59,
   "id": "b1a7cb4a-389a-45ab-8a72-6e65e21b6728",
   "metadata": {},
   "outputs": [
    {
     "name": "stdout",
     "output_type": "stream",
     "text": [
      "Set: {'cherry', 'apple', 'banana'}\n"
     ]
    }
   ],
   "source": [
    "string_list = [\"apple\", \"banana\", \"cherry\", \"apple\"]\n",
    "string_set = set(string_list)\n",
    "print(\"Set:\", string_set)"
   ]
  },
  {
   "cell_type": "code",
   "execution_count": null,
   "id": "2cbaccb4-b7dd-43c8-a6bd-291ef905951c",
   "metadata": {},
   "outputs": [],
   "source": []
  }
 ],
 "metadata": {
  "kernelspec": {
   "display_name": "Python 3 (ipykernel)",
   "language": "python",
   "name": "python3"
  },
  "language_info": {
   "codemirror_mode": {
    "name": "ipython",
    "version": 3
   },
   "file_extension": ".py",
   "mimetype": "text/x-python",
   "name": "python",
   "nbconvert_exporter": "python",
   "pygments_lexer": "ipython3",
   "version": "3.12.7"
  }
 },
 "nbformat": 4,
 "nbformat_minor": 5
}
